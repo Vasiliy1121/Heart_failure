{
 "cells": [
  {
   "cell_type": "markdown",
   "id": "6bc5e0b7",
   "metadata": {},
   "source": [
    "# Предсказание вероятности сердечно-сосудистых заболеваний"
   ]
  },
  {
   "cell_type": "markdown",
   "id": "02422920",
   "metadata": {},
   "source": [
    "Сердечно-сосудистые заболевания (ССЗ), к сожалению, являются самой частой причиной смерти по всему миру. \n",
    "\n",
    "При этом наиболее эффективной стратегией борьбы с ССЗ является заблаговременное выявление проблем (диагностика) и своевременное начало лечения.\n",
    "Наша задача: В этом проекте вам предстоит помочь врачам в их повседневной работе - провести предварительную оценка медицинских данных, которыми располагает заказчик. \n",
    "\n",
    "Цель этой работы - оценить качество данных и возможность их использования для создания ML решений.\n",
    "Вам будет предложено несколько датасетов, для которых необходимо провести:\n",
    "провести разведочный анализ данных, обнаружить возможные аномалии, пропуски, выбросы и т.д;\n",
    "провести предобработку данных;\n",
    "\n",
    "построить ML модель бинарной классификации; а если потребуется, то сгенерировать новые признаки\n",
    "оценить качество созданных моделей.\n",
    "\n",
    "А результатом этого проекта вы подготовите отчёт, который опубликуете в своём репозитории и десятиминутная презентация с рассказом о проделанной работе. :восхищение:\n",
    "\n",
    "Проект будет реализован на платформе Kaggle - одном из самых известных ресурсов среди DS-специалистов, позволяющей сравнить результаты с результатами ваших одногруппников. Также Kaggle это идеальная платформа для создания пет-проектов, соревнований, поиска идей и много другого! Уметь им пользоваться очень важно)"
   ]
  },
  {
   "cell_type": "markdown",
   "id": "80f01894",
   "metadata": {},
   "source": [
    "### Шаг 1. Загрузим библиотеки и откроем файл с данными"
   ]
  },
  {
   "cell_type": "code",
   "execution_count": 1,
   "id": "e4994492",
   "metadata": {},
   "outputs": [],
   "source": [
    "import pandas as pd\n",
    "import warnings\n",
    "warnings.filterwarnings(\"ignore\")\n",
    "import matplotlib.pyplot as plt\n",
    "import seaborn as sns\n",
    "import plotly.express as px\n",
    "\n",
    "from sklearn.model_selection import train_test_split\n",
    "from sklearn.model_selection import GridSearchCV\n",
    "from sklearn.model_selection import cross_val_score\n",
    "from sklearn.model_selection import ShuffleSplit\n",
    "\n",
    "from sklearn.preprocessing import StandardScaler\n",
    "from sklearn.preprocessing import OneHotEncoder\n",
    "\n",
    "from sklearn.linear_model import LogisticRegression\n",
    "from sklearn.tree import DecisionTreeClassifier\n",
    "from sklearn.ensemble import RandomForestClassifier\n",
    "from sklearn.ensemble import GradientBoostingRegressor\n",
    "from sklearn.ensemble import GradientBoostingClassifier\n",
    "from sklearn.metrics import f1_score\n",
    "from sklearn.metrics import roc_auc_score\n",
    "from sklearn.metrics import roc_curve \n",
    "from sklearn.utils import shuffle\n",
    "\n",
    "from sklearn import preprocessing\n",
    "from sklearn import metrics"
   ]
  },
  {
   "cell_type": "code",
   "execution_count": 2,
   "id": "b796c050",
   "metadata": {},
   "outputs": [
    {
     "data": {
      "text/html": [
       "<div>\n",
       "<style scoped>\n",
       "    .dataframe tbody tr th:only-of-type {\n",
       "        vertical-align: middle;\n",
       "    }\n",
       "\n",
       "    .dataframe tbody tr th {\n",
       "        vertical-align: top;\n",
       "    }\n",
       "\n",
       "    .dataframe thead th {\n",
       "        text-align: right;\n",
       "    }\n",
       "</style>\n",
       "<table border=\"1\" class=\"dataframe\">\n",
       "  <thead>\n",
       "    <tr style=\"text-align: right;\">\n",
       "      <th></th>\n",
       "      <th>Age</th>\n",
       "      <th>Sex</th>\n",
       "      <th>ChestPainType</th>\n",
       "      <th>RestingBP</th>\n",
       "      <th>Cholesterol</th>\n",
       "      <th>FastingBS</th>\n",
       "      <th>RestingECG</th>\n",
       "      <th>MaxHR</th>\n",
       "      <th>ExerciseAngina</th>\n",
       "      <th>Oldpeak</th>\n",
       "      <th>ST_Slope</th>\n",
       "      <th>HeartDisease</th>\n",
       "    </tr>\n",
       "  </thead>\n",
       "  <tbody>\n",
       "    <tr>\n",
       "      <th>0</th>\n",
       "      <td>40</td>\n",
       "      <td>M</td>\n",
       "      <td>ATA</td>\n",
       "      <td>140</td>\n",
       "      <td>289</td>\n",
       "      <td>0</td>\n",
       "      <td>Normal</td>\n",
       "      <td>172</td>\n",
       "      <td>N</td>\n",
       "      <td>0.0</td>\n",
       "      <td>Up</td>\n",
       "      <td>0</td>\n",
       "    </tr>\n",
       "    <tr>\n",
       "      <th>1</th>\n",
       "      <td>49</td>\n",
       "      <td>F</td>\n",
       "      <td>NAP</td>\n",
       "      <td>160</td>\n",
       "      <td>180</td>\n",
       "      <td>0</td>\n",
       "      <td>Normal</td>\n",
       "      <td>156</td>\n",
       "      <td>N</td>\n",
       "      <td>1.0</td>\n",
       "      <td>Flat</td>\n",
       "      <td>1</td>\n",
       "    </tr>\n",
       "    <tr>\n",
       "      <th>2</th>\n",
       "      <td>37</td>\n",
       "      <td>M</td>\n",
       "      <td>ATA</td>\n",
       "      <td>130</td>\n",
       "      <td>283</td>\n",
       "      <td>0</td>\n",
       "      <td>ST</td>\n",
       "      <td>98</td>\n",
       "      <td>N</td>\n",
       "      <td>0.0</td>\n",
       "      <td>Up</td>\n",
       "      <td>0</td>\n",
       "    </tr>\n",
       "    <tr>\n",
       "      <th>3</th>\n",
       "      <td>48</td>\n",
       "      <td>F</td>\n",
       "      <td>ASY</td>\n",
       "      <td>138</td>\n",
       "      <td>214</td>\n",
       "      <td>0</td>\n",
       "      <td>Normal</td>\n",
       "      <td>108</td>\n",
       "      <td>Y</td>\n",
       "      <td>1.5</td>\n",
       "      <td>Flat</td>\n",
       "      <td>1</td>\n",
       "    </tr>\n",
       "    <tr>\n",
       "      <th>4</th>\n",
       "      <td>54</td>\n",
       "      <td>M</td>\n",
       "      <td>NAP</td>\n",
       "      <td>150</td>\n",
       "      <td>195</td>\n",
       "      <td>0</td>\n",
       "      <td>Normal</td>\n",
       "      <td>122</td>\n",
       "      <td>N</td>\n",
       "      <td>0.0</td>\n",
       "      <td>Up</td>\n",
       "      <td>0</td>\n",
       "    </tr>\n",
       "    <tr>\n",
       "      <th>...</th>\n",
       "      <td>...</td>\n",
       "      <td>...</td>\n",
       "      <td>...</td>\n",
       "      <td>...</td>\n",
       "      <td>...</td>\n",
       "      <td>...</td>\n",
       "      <td>...</td>\n",
       "      <td>...</td>\n",
       "      <td>...</td>\n",
       "      <td>...</td>\n",
       "      <td>...</td>\n",
       "      <td>...</td>\n",
       "    </tr>\n",
       "    <tr>\n",
       "      <th>913</th>\n",
       "      <td>45</td>\n",
       "      <td>M</td>\n",
       "      <td>TA</td>\n",
       "      <td>110</td>\n",
       "      <td>264</td>\n",
       "      <td>0</td>\n",
       "      <td>Normal</td>\n",
       "      <td>132</td>\n",
       "      <td>N</td>\n",
       "      <td>1.2</td>\n",
       "      <td>Flat</td>\n",
       "      <td>1</td>\n",
       "    </tr>\n",
       "    <tr>\n",
       "      <th>914</th>\n",
       "      <td>68</td>\n",
       "      <td>M</td>\n",
       "      <td>ASY</td>\n",
       "      <td>144</td>\n",
       "      <td>193</td>\n",
       "      <td>1</td>\n",
       "      <td>Normal</td>\n",
       "      <td>141</td>\n",
       "      <td>N</td>\n",
       "      <td>3.4</td>\n",
       "      <td>Flat</td>\n",
       "      <td>1</td>\n",
       "    </tr>\n",
       "    <tr>\n",
       "      <th>915</th>\n",
       "      <td>57</td>\n",
       "      <td>M</td>\n",
       "      <td>ASY</td>\n",
       "      <td>130</td>\n",
       "      <td>131</td>\n",
       "      <td>0</td>\n",
       "      <td>Normal</td>\n",
       "      <td>115</td>\n",
       "      <td>Y</td>\n",
       "      <td>1.2</td>\n",
       "      <td>Flat</td>\n",
       "      <td>1</td>\n",
       "    </tr>\n",
       "    <tr>\n",
       "      <th>916</th>\n",
       "      <td>57</td>\n",
       "      <td>F</td>\n",
       "      <td>ATA</td>\n",
       "      <td>130</td>\n",
       "      <td>236</td>\n",
       "      <td>0</td>\n",
       "      <td>LVH</td>\n",
       "      <td>174</td>\n",
       "      <td>N</td>\n",
       "      <td>0.0</td>\n",
       "      <td>Flat</td>\n",
       "      <td>1</td>\n",
       "    </tr>\n",
       "    <tr>\n",
       "      <th>917</th>\n",
       "      <td>38</td>\n",
       "      <td>M</td>\n",
       "      <td>NAP</td>\n",
       "      <td>138</td>\n",
       "      <td>175</td>\n",
       "      <td>0</td>\n",
       "      <td>Normal</td>\n",
       "      <td>173</td>\n",
       "      <td>N</td>\n",
       "      <td>0.0</td>\n",
       "      <td>Up</td>\n",
       "      <td>0</td>\n",
       "    </tr>\n",
       "  </tbody>\n",
       "</table>\n",
       "<p>918 rows × 12 columns</p>\n",
       "</div>"
      ],
      "text/plain": [
       "     Age Sex ChestPainType  RestingBP  Cholesterol  FastingBS RestingECG  \\\n",
       "0     40   M           ATA        140          289          0     Normal   \n",
       "1     49   F           NAP        160          180          0     Normal   \n",
       "2     37   M           ATA        130          283          0         ST   \n",
       "3     48   F           ASY        138          214          0     Normal   \n",
       "4     54   M           NAP        150          195          0     Normal   \n",
       "..   ...  ..           ...        ...          ...        ...        ...   \n",
       "913   45   M            TA        110          264          0     Normal   \n",
       "914   68   M           ASY        144          193          1     Normal   \n",
       "915   57   M           ASY        130          131          0     Normal   \n",
       "916   57   F           ATA        130          236          0        LVH   \n",
       "917   38   M           NAP        138          175          0     Normal   \n",
       "\n",
       "     MaxHR ExerciseAngina  Oldpeak ST_Slope  HeartDisease  \n",
       "0      172              N      0.0       Up             0  \n",
       "1      156              N      1.0     Flat             1  \n",
       "2       98              N      0.0       Up             0  \n",
       "3      108              Y      1.5     Flat             1  \n",
       "4      122              N      0.0       Up             0  \n",
       "..     ...            ...      ...      ...           ...  \n",
       "913    132              N      1.2     Flat             1  \n",
       "914    141              N      3.4     Flat             1  \n",
       "915    115              Y      1.2     Flat             1  \n",
       "916    174              N      0.0     Flat             1  \n",
       "917    173              N      0.0       Up             0  \n",
       "\n",
       "[918 rows x 12 columns]"
      ]
     },
     "execution_count": 2,
     "metadata": {},
     "output_type": "execute_result"
    }
   ],
   "source": [
    "data = pd.read_csv('heart.csv')\n",
    "data"
   ]
  },
  {
   "cell_type": "code",
   "execution_count": 3,
   "id": "645f4ec5",
   "metadata": {},
   "outputs": [
    {
     "name": "stdout",
     "output_type": "stream",
     "text": [
      "Обучающая выборка: (550, 12)\n",
      "Тестовая выборка: (368, 12)\n"
     ]
    }
   ],
   "source": [
    "features_train, features_test = train_test_split(data, test_size=0.4, random_state=12345)\n",
    "print('Обучающая выборка:', features_train.shape)\n",
    "print('Тестовая выборка:', features_test.shape)"
   ]
  },
  {
   "cell_type": "code",
   "execution_count": 4,
   "id": "3d8c1cfe",
   "metadata": {},
   "outputs": [],
   "source": [
    "target_train = features_train['HeartDisease']\n",
    "features_train = features_train.drop(['HeartDisease'], axis=1)\n",
    "target_test = features_test['HeartDisease']\n",
    "features_test = features_test.drop(['HeartDisease'], axis=1)"
   ]
  },
  {
   "cell_type": "code",
   "execution_count": 5,
   "id": "cfd59578",
   "metadata": {},
   "outputs": [
    {
     "name": "stdout",
     "output_type": "stream",
     "text": [
      "(550, 14)\n",
      "(368, 14)\n"
     ]
    }
   ],
   "source": [
    "cat_columns = list(features_train.select_dtypes('object').columns)\n",
    "\n",
    "enc = OneHotEncoder(handle_unknown='ignore')\n",
    "\n",
    "features_train_ohe = features_train.copy()\n",
    "features_test_ohe = features_test.copy()\n",
    "\n",
    "features_train_ohe = enc.fit_transform(features_train[cat_columns])\n",
    "features_test_ohe = enc.transform(features_test[cat_columns])\n",
    "\n",
    "\n",
    "for _ in [features_train_ohe, features_test_ohe]:\n",
    "    print(_.shape)"
   ]
  },
  {
   "cell_type": "code",
   "execution_count": 6,
   "id": "12c69858",
   "metadata": {},
   "outputs": [
    {
     "data": {
      "text/plain": [
       "'F1: 0.862994706202986'"
      ]
     },
     "metadata": {},
     "output_type": "display_data"
    },
    {
     "data": {
      "text/plain": [
       "'ROC-AUC: 0.9019533847037922'"
      ]
     },
     "metadata": {},
     "output_type": "display_data"
    },
    {
     "data": {
      "text/plain": [
       "'RECALL: 0.8791371487386748'"
      ]
     },
     "metadata": {},
     "output_type": "display_data"
    }
   ],
   "source": [
    "model_logistic = LogisticRegression(random_state=12345)\n",
    "model_logistic.fit(features_train_ohe, target_train) \n",
    "cv = ShuffleSplit(n_splits=5, test_size=0.3, random_state=12345)\n",
    "scores_f1 = cross_val_score(model_logistic, features_train_ohe, target_train, cv=cv, scoring='f1')\n",
    "scores_roc_auc = cross_val_score(model_logistic, features_train_ohe, target_train, cv=cv, scoring='roc_auc')\n",
    "scores_recall = cross_val_score(model_logistic, features_train_ohe, target_train, cv=cv, scoring='recall')\n",
    "display(f'F1: {scores_f1.mean()}')\n",
    "display(f'ROC-AUC: {scores_roc_auc.mean()}')\n",
    "display(f'RECALL: {scores_recall.mean()}')"
   ]
  },
  {
   "cell_type": "code",
   "execution_count": 7,
   "id": "fc488801",
   "metadata": {},
   "outputs": [
    {
     "name": "stdout",
     "output_type": "stream",
     "text": [
      "              precision    recall  f1-score   support\n",
      "\n",
      "           0       0.80      0.83      0.81       222\n",
      "           1       0.88      0.86      0.87       328\n",
      "\n",
      "    accuracy                           0.85       550\n",
      "   macro avg       0.84      0.84      0.84       550\n",
      "weighted avg       0.85      0.85      0.85       550\n",
      "\n"
     ]
    }
   ],
   "source": [
    "pred_lr = model_logistic.predict(features_train_ohe)\n",
    "print(metrics.classification_report(pred_lr, target_train))"
   ]
  },
  {
   "cell_type": "code",
   "execution_count": 8,
   "id": "c1ebad15",
   "metadata": {},
   "outputs": [
    {
     "name": "stdout",
     "output_type": "stream",
     "text": [
      "Оптимальные параметры: {'max_depth': 4}\n",
      "Лучший recall на: 0.8875\n",
      "F1 на: 0.8429366221507955\n",
      "ROC-AUC на: 0.8706040516032605\n"
     ]
    }
   ],
   "source": [
    "dt_params = {'max_depth': [2, 4, 8, 16, 32, 64]}\n",
    "model_dt = GridSearchCV(DecisionTreeClassifier(random_state=12345),\n",
    "                         dt_params, \n",
    "                         cv = 5,\n",
    "                         scoring = 'recall')\n",
    "model_dt.fit(features_train_ohe, target_train)\n",
    "scores_f1 = cross_val_score(model_dt, features_train_ohe, target_train, cv=cv, scoring='f1')\n",
    "scores_roc_auc = cross_val_score(model_dt, features_train_ohe, target_train, cv=cv, scoring='roc_auc')\n",
    "print('Оптимальные параметры:',model_dt.best_params_) \n",
    "print(f'Лучший recall на: {model_dt.best_score_}')\n",
    "print(f'F1 на: {scores_f1.mean()}')\n",
    "print(f'ROC-AUC на: {scores_roc_auc.mean()}')"
   ]
  },
  {
   "cell_type": "code",
   "execution_count": 9,
   "id": "f6957d88",
   "metadata": {},
   "outputs": [
    {
     "name": "stdout",
     "output_type": "stream",
     "text": [
      "              precision    recall  f1-score   support\n",
      "\n",
      "           0       0.79      0.84      0.82       216\n",
      "           1       0.89      0.86      0.87       334\n",
      "\n",
      "    accuracy                           0.85       550\n",
      "   macro avg       0.84      0.85      0.85       550\n",
      "weighted avg       0.85      0.85      0.85       550\n",
      "\n"
     ]
    }
   ],
   "source": [
    "pred_dt = model_dt.predict(features_train_ohe)\n",
    "print(metrics.classification_report(pred_dt, target_train))"
   ]
  },
  {
   "cell_type": "code",
   "execution_count": 10,
   "id": "742459fe",
   "metadata": {},
   "outputs": [
    {
     "name": "stdout",
     "output_type": "stream",
     "text": [
      "Оптимальные параметры: {'max_depth': 2, 'n_estimators': 10}\n",
      "Лучший recall на: 0.890625\n",
      "F1 на: 0.8531551791701137\n",
      "ROC-AUC на: 0.8866854018918302\n"
     ]
    }
   ],
   "source": [
    "rf_params = {'n_estimators': [2, 5, 10, 30, 50], \n",
    "             'max_depth': [2, 4, 8, 16, 20, 30 ]}\n",
    "model_rf= GridSearchCV(RandomForestClassifier(random_state=12345),\n",
    "                         rf_params,\n",
    "                         cv = 5,\n",
    "                         scoring = 'recall')\n",
    "model_rf.fit(features_train_ohe, target_train)\n",
    "scores_f1 = cross_val_score(model_rf, features_train_ohe, target_train, cv=cv, scoring='f1')\n",
    "scores_roc_auc = cross_val_score(model_rf, features_train_ohe, target_train, cv=cv, scoring='roc_auc')\n",
    "print('Оптимальные параметры:', model_rf.best_params_) \n",
    "print(f'Лучший recall на: {model_rf.best_score_}') \n",
    "print(f'F1 на: {scores_f1.mean()}')\n",
    "print(f'ROC-AUC на: {scores_roc_auc.mean()}')"
   ]
  },
  {
   "cell_type": "code",
   "execution_count": 11,
   "id": "4439006f",
   "metadata": {},
   "outputs": [
    {
     "name": "stdout",
     "output_type": "stream",
     "text": [
      "              precision    recall  f1-score   support\n",
      "\n",
      "           0       0.79      0.84      0.82       216\n",
      "           1       0.89      0.86      0.87       334\n",
      "\n",
      "    accuracy                           0.85       550\n",
      "   macro avg       0.84      0.85      0.85       550\n",
      "weighted avg       0.85      0.85      0.85       550\n",
      "\n"
     ]
    }
   ],
   "source": [
    "pred_rf = model_rf.predict(features_train_ohe)\n",
    "print(metrics.classification_report(pred_dt, target_train))"
   ]
  },
  {
   "cell_type": "code",
   "execution_count": 12,
   "id": "c82773fd",
   "metadata": {},
   "outputs": [
    {
     "name": "stdout",
     "output_type": "stream",
     "text": [
      "Оптимальные параметры: {'learning_rate': 0.01, 'min_samples_leaf': 1, 'min_samples_split': 2, 'n_estimators': 100}\n",
      "Лучший recall на: 0.90625\n",
      "F1 на: 0.8531551791701137\n",
      "ROC-AUC на: 0.8866854018918302\n"
     ]
    }
   ],
   "source": [
    "gb_params = {'learning_rate':[0.1,0.01,0.2,0.5],\n",
    "         'n_estimators':[100,1000,200,150],\n",
    "         'min_samples_split':[2,3,5,10],\n",
    "         'min_samples_leaf':[1,2,5,10]}\n",
    "model_gb = GridSearchCV(GradientBoostingClassifier(random_state=12345), gb_params, \n",
    "                         cv=5 , \n",
    "                         scoring = 'recall')\n",
    "model_gb.fit(features_train_ohe, target_train)\n",
    "scores_f1 = cross_val_score(model_rf, features_train_ohe, target_train, cv=cv, scoring='f1')\n",
    "scores_roc_auc = cross_val_score(model_rf, features_train_ohe, target_train, cv=cv, scoring='roc_auc')\n",
    "print('Оптимальные параметры:',model_gb.best_params_) \n",
    "print(f'Лучший recall на: {model_gb.best_score_}') \n",
    "print(f'F1 на: {scores_f1.mean()}')\n",
    "print(f'ROC-AUC на: {scores_roc_auc.mean()}')"
   ]
  },
  {
   "cell_type": "code",
   "execution_count": 13,
   "id": "4371135a",
   "metadata": {},
   "outputs": [
    {
     "name": "stdout",
     "output_type": "stream",
     "text": [
      "              precision    recall  f1-score   support\n",
      "\n",
      "           0       0.82      0.89      0.85       166\n",
      "           1       0.90      0.84      0.87       202\n",
      "\n",
      "    accuracy                           0.86       368\n",
      "   macro avg       0.86      0.86      0.86       368\n",
      "weighted avg       0.86      0.86      0.86       368\n",
      "\n",
      "AUC-ROC Логистическая регрессия: 0.8866854018918302\n",
      "F-1 Логистическая регрессия: 0.8531551791701137\n",
      "              precision    recall  f1-score   support\n",
      "\n",
      "           0       0.77      0.89      0.82       157\n",
      "           1       0.90      0.81      0.85       211\n",
      "\n",
      "    accuracy                           0.84       368\n",
      "   macro avg       0.84      0.85      0.84       368\n",
      "weighted avg       0.85      0.84      0.84       368\n",
      "\n",
      "AUC-ROC Дерево решений 0.896911938534279\n",
      "F-1 Дерево решений: 0.8521303258145363\n",
      "              precision    recall  f1-score   support\n",
      "\n",
      "           0       0.76      0.91      0.82       150\n",
      "           1       0.93      0.80      0.86       218\n",
      "\n",
      "    accuracy                           0.84       368\n",
      "   macro avg       0.84      0.85      0.84       368\n",
      "weighted avg       0.86      0.84      0.84       368\n",
      "\n",
      "AUC-ROC Случайный лес 0.9206412529550829\n",
      "F-1 Случайный лес: 0.8571428571428571\n",
      "              precision    recall  f1-score   support\n",
      "\n",
      "           0       0.73      0.89      0.80       148\n",
      "           1       0.91      0.78      0.84       220\n",
      "\n",
      "    accuracy                           0.82       368\n",
      "   macro avg       0.82      0.83      0.82       368\n",
      "weighted avg       0.84      0.82      0.82       368\n",
      "\n",
      "AUC-ROC Градиентный бустинг: 0.9064125295508274\n",
      "F-1 Градиентный бустинг: 0.838235294117647\n"
     ]
    },
    {
     "data": {
      "image/png": "[encoded data removed]",
      "text/plain": [
       "<Figure size 1440x1440 with 1 Axes>"
      ]
     },
     "metadata": {
      "needs_background": "light"
     },
     "output_type": "display_data"
    }
   ],
   "source": [
    "plt.figure(figsize=[20,20])\n",
    "\n",
    "plt.plot([0, 1], [0, 1], linestyle='--', label='Случайная модель')\n",
    "\n",
    "#Логистическая регрессия\n",
    "model_logistic = LogisticRegression(random_state=12345)\n",
    "model_logistic.fit(features_train_ohe, target_train)\n",
    "predictions_valid = model_logistic.predict(features_test_ohe)\n",
    "result_f1_lr = f1_score(target_test, predictions_valid)\n",
    "probabilities_valid = model_logistic.predict_proba(features_test_ohe)\n",
    "probabilities_one_valid = probabilities_valid[:, 1]\n",
    "fpr, tpr, thresholds = roc_curve(target_test, probabilities_one_valid)\n",
    "auc_roc = roc_auc_score(target_test, probabilities_one_valid)\n",
    "print(metrics.classification_report(predictions_valid, target_test))\n",
    "print('AUC-ROC Логистическая регрессия:',scores_roc_auc.mean())\n",
    "print('F-1 Логистическая регрессия:', scores_f1.mean())\n",
    "plt.plot(fpr, tpr, label='Логистическая регрессия')\n",
    "\n",
    "#Дерево решений\n",
    "model_dtc = DecisionTreeClassifier(random_state=12345, \n",
    "                                   max_depth=4)\n",
    "model_dtc.fit(features_train_ohe, target_train)\n",
    "predictions_valid = model_dtc.predict(features_test_ohe)\n",
    "result_f1_dt = f1_score(target_test, predictions_valid)\n",
    "probabilities_valid = model_dtc.predict_proba(features_test_ohe)\n",
    "probabilities_one_valid = probabilities_valid[:, 1]\n",
    "fpr, tpr, thresholds = roc_curve(target_test, probabilities_one_valid)\n",
    "auc_roc = roc_auc_score(target_test, probabilities_one_valid)\n",
    "print(metrics.classification_report(predictions_valid, target_test))\n",
    "print('AUC-ROC Дерево решений', auc_roc)\n",
    "print('F-1 Дерево решений:', result_f1_dt)\n",
    "plt.plot(fpr, tpr, label='Дерево решений')\n",
    "\n",
    "\n",
    "#Случайный лес\n",
    "model_forest = RandomForestClassifier(random_state=12345, \n",
    "                                      n_estimators=10, \n",
    "                                      max_depth=2)\n",
    "model_forest.fit(features_train_ohe, target_train)\n",
    "predictions_valid = model_forest.predict(features_test_ohe)\n",
    "result_f1_rf = f1_score(target_test, predictions_valid)\n",
    "probabilities_valid = model_forest.predict_proba(features_test_ohe)\n",
    "probabilities_one_valid = probabilities_valid[:, 1]\n",
    "fpr, tpr, thresholds = roc_curve(target_test, probabilities_one_valid)\n",
    "auc_roc = roc_auc_score(target_test, probabilities_one_valid)\n",
    "print(metrics.classification_report(predictions_valid, target_test))\n",
    "print('AUC-ROC Случайный лес', auc_roc)\n",
    "print('F-1 Случайный лес:', result_f1_rf )\n",
    "plt.plot(fpr, tpr, label='Случайный лес')\n",
    "\n",
    "#Градиентный бустинг\n",
    "model_gb = GradientBoostingClassifier(random_state=12345, \n",
    "                                      learning_rate = 0.01, \n",
    "                                      min_samples_leaf = 1, \n",
    "                                      min_samples_split = 2, \n",
    "                                      n_estimators = 100)\n",
    "model_gb.fit(features_train_ohe, target_train)\n",
    "predictions_valid = model_gb.predict(features_test_ohe)\n",
    "result_f1_gb = f1_score(target_test, predictions_valid)\n",
    "probabilities_valid = model_gb.predict_proba(features_test_ohe)\n",
    "probabilities_one_valid = probabilities_valid[:, 1]\n",
    "fpr, tpr, thresholds = roc_curve(target_test, probabilities_one_valid)\n",
    "auc_roc = roc_auc_score(target_test, probabilities_one_valid)\n",
    "print(metrics.classification_report(predictions_valid, target_test))\n",
    "print('AUC-ROC Градиентный бустинг:', auc_roc)\n",
    "print('F-1 Градиентный бустинг:', result_f1_gb )\n",
    "plt.plot(fpr, tpr, label='Градиентный бустинг')\n",
    "\n",
    "\n",
    "\n",
    "plt.xlim([0,1])\n",
    "plt.ylim([0,1])\n",
    "\n",
    "plt.xlabel(\"False Positive Rate\")\n",
    "plt.ylabel(\"True Positive Rate\")\n",
    "\n",
    "plt.legend(loc='lower right', fontsize='x-large')\n",
    "\n",
    "plt.title(\"ROC-кривая\")\n",
    "plt.show()"
   ]
  },
  {
   "cell_type": "code",
   "execution_count": null,
   "id": "d6eef1ff",
   "metadata": {},
   "outputs": [],
   "source": []
  }
 ],
 "metadata": {
  "kernelspec": {
   "display_name": "Python 3 (ipykernel)",
   "language": "python",
   "name": "python3"
  },
  "language_info": {
   "codemirror_mode": {
    "name": "ipython",
    "version": 3
   },
   "file_extension": ".py",
   "mimetype": "text/x-python",
   "name": "python",
   "nbconvert_exporter": "python",
   "pygments_lexer": "ipython3",
   "version": "3.9.7"
  }
 },
 "nbformat": 4,
 "nbformat_minor": 5
}
